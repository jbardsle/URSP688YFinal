{
  "nbformat": 4,
  "nbformat_minor": 0,
  "metadata": {
    "colab": {
      "provenance": [],
      "mount_file_id": "1IzgbyH6hqrGFAO2cQ0H0LHKvKXUNgCqi",
      "authorship_tag": "ABX9TyPCSmc/T60TaZPgS4PGK04p",
      "include_colab_link": true
    },
    "kernelspec": {
      "name": "python3",
      "display_name": "Python 3"
    },
    "language_info": {
      "name": "python"
    }
  },
  "cells": [
    {
      "cell_type": "markdown",
      "metadata": {
        "id": "view-in-github",
        "colab_type": "text"
      },
      "source": [
        "<a href=\"https://colab.research.google.com/github/jbardsle/URSP688YFinal/blob/main/FinalProjectPaperVersion.ipynb\" target=\"_parent\"><img src=\"https://colab.research.google.com/assets/colab-badge.svg\" alt=\"Open In Colab\"/></a>"
      ]
    },
    {
      "cell_type": "code",
      "execution_count": null,
      "metadata": {
        "id": "Jj66Yu0r7dGh"
      },
      "outputs": [],
      "source": [
        "import pandas as pd\n",
        "import geopandas as gpd\n",
        "import os\n",
        "import numpy as np\n",
        "import matplotlib.pyplot as plt\n",
        "import shapely\n",
        "import os\n"
      ]
    },
    {
      "cell_type": "code",
      "source": [
        "os.chdir('/content/drive/MyDrive/Colab Notebooks/FinalProject')"
      ],
      "metadata": {
        "id": "y-3mdgYoFUWQ"
      },
      "execution_count": null,
      "outputs": []
    },
    {
      "cell_type": "code",
      "source": [
        "OppSites = gpd.read_file('/content/drive/MyDrive/Colab Notebooks/FinalProject/OpportunitySites2/OpportunitySites2.shp')"
      ],
      "metadata": {
        "id": "8wHVxP6S7z9r"
      },
      "execution_count": null,
      "outputs": []
    },
    {
      "cell_type": "code",
      "source": [
        "# This begins the process to clean the original large data files. For loading speed,\n",
        "# the smaller versions are loaded below, and this section is commented out.\n",
        "# OppSites is small enough that it is loaded below.\n",
        "# PgParcels = gpd.read_file('/content/drive/MyDrive/Colab Notebooks/FinalProject/Property_Info_Py (1)/Property_Info_Py.shp')"
      ],
      "metadata": {
        "id": "faEHZKB--3bi"
      },
      "execution_count": null,
      "outputs": []
    },
    {
      "cell_type": "code",
      "source": [
        "# Demogs = gpd.read_file('/content/drive/MyDrive/Colab Notebooks/FinalProject/PG_Blocks/PG_Blocks.shp')"
      ],
      "metadata": {
        "id": "0BhmWT72qf0R"
      },
      "execution_count": null,
      "outputs": []
    },
    {
      "cell_type": "code",
      "source": [
        "#Select the opportunity sites that have a 3 mile radius completely withing Prince George's County\n",
        "#and a small sliver of DC\n",
        "OppSites = OppSites[OppSites['DissolveID'].isin([11,31,188,])]"
      ],
      "metadata": {
        "id": "orurtKZESobl"
      },
      "execution_count": null,
      "outputs": []
    },
    {
      "cell_type": "code",
      "source": [
        "#Convert all geodataframes to UTM-18 for distance measurement\n",
        "# PgParcels = PgParcels.to_crs(epsg = 32618)\n",
        "OppSites = OppSites.to_crs(epsg = 32618)\n",
        "# Demogs = Demogs.to_crs(epsg = 32618)"
      ],
      "metadata": {
        "id": "5yRI_e0peIMv"
      },
      "execution_count": null,
      "outputs": []
    },
    {
      "cell_type": "code",
      "source": [
        "#Create a buffer around each site of approximately three miles (4828 meters) to represent the market area\n",
        "OppSitesBuffer = OppSites['geometry'].buffer(4828)"
      ],
      "metadata": {
        "id": "8Yjp5umIeUST"
      },
      "execution_count": null,
      "outputs": []
    },
    {
      "cell_type": "code",
      "source": [
        "#Copy the Opportunity Sites layer so that it can be replaced with the buffer geometry\n",
        "OppSitesWithBuffer = OppSites.copy()"
      ],
      "metadata": {
        "id": "GoQHZRPS5wW6"
      },
      "execution_count": null,
      "outputs": []
    },
    {
      "cell_type": "code",
      "source": [
        "#Replace original geometry with buffer geometry\n",
        "OppSitesWithBuffer['geometry'] = OppSitesBuffer"
      ],
      "metadata": {
        "id": "kBjsVPhbhadQ"
      },
      "execution_count": null,
      "outputs": []
    },
    {
      "cell_type": "code",
      "source": [
        "#plot the buffers with the opportunity sites\n",
        "ax = OppSitesBuffer.plot()\n",
        "OppSites.plot(ax=ax, color = 'red')"
      ],
      "metadata": {
        "id": "d8EbJjySLSFK"
      },
      "execution_count": null,
      "outputs": []
    },
    {
      "cell_type": "code",
      "source": [
        "# #Create a single shape to represent the maximum area of interest (3 miles from the three sites)\n",
        "# MaxArea = OppSitesBuffer.unary_union\n",
        "# #Convert this polygon object to a geodataframe\n",
        "# MaxArea_series = gpd.GeoSeries(MaxArea)\n",
        "# MaxAreaGDF = gpd.GeoDataFrame(geometry = MaxArea_series, crs = 32618)"
      ],
      "metadata": {
        "id": "UGGwt5_YQ6RU"
      },
      "execution_count": null,
      "outputs": []
    },
    {
      "cell_type": "code",
      "source": [
        "# PgParcelsSmall = gpd.sjoin(PgParcels, MaxAreaGDF,how=\"inner\", op='intersects')"
      ],
      "metadata": {
        "id": "TchA6lsEVqKM"
      },
      "execution_count": null,
      "outputs": []
    },
    {
      "cell_type": "code",
      "source": [
        "# DemogsSmall = gpd.sjoin(Demogs, MaxAreaGDF,how=\"inner\", op='intersects')"
      ],
      "metadata": {
        "id": "6QG7KfnRuQNl"
      },
      "execution_count": null,
      "outputs": []
    },
    {
      "cell_type": "code",
      "source": [
        "#Load PgParcelsSmall from file (rather than performing the above process)\n",
        "PgParcelsSmall = gpd.read_file('/content/drive/MyDrive/Colab Notebooks/FinalProject/SmallerFiles/PgParcelsSmall3Miles/PgParcelsSmall3Mile.shp')"
      ],
      "metadata": {
        "id": "X8ev5MEP2C5H"
      },
      "execution_count": null,
      "outputs": []
    },
    {
      "cell_type": "code",
      "source": [
        "#Load DemogsSmall from file (rather than performing the above process)\n",
        "DemogsSmall = gpd.read_file('/content/drive/MyDrive/Colab Notebooks/FinalProject/SmallerFiles/DemogsSmall3Miles/DemogsSmall3Mile.shp')"
      ],
      "metadata": {
        "id": "e5tDJlvq2TDy"
      },
      "execution_count": null,
      "outputs": []
    },
    {
      "cell_type": "code",
      "source": [
        "#Remove all columns except the one containing the Geoid, total pop, hispanic pop, and hispanic percent\n",
        "DemogsSmall = DemogsSmall[['GEOID','P0010001','P0020002','PCT_P00200','geometry']]"
      ],
      "metadata": {
        "id": "WOFZ1uQT76c4"
      },
      "execution_count": null,
      "outputs": []
    },
    {
      "cell_type": "code",
      "source": [
        "#Rename columns for ease of use\n",
        "DemogsSmall.rename(columns={'P0010001': 'Total_Pop', 'P0020002': 'Hisp_Pop', 'PCT_P00200': 'Hisp_Pct'}, inplace=True)"
      ],
      "metadata": {
        "id": "5a-RAo----K9"
      },
      "execution_count": null,
      "outputs": []
    },
    {
      "cell_type": "code",
      "source": [
        "#Get rid of index_right column in PgParcelsSmall which causes an error in a future join\n",
        "PgParcelsSmall.drop('index_righ', axis=1, inplace=True)"
      ],
      "metadata": {
        "id": "i4mAxPkP4DOV"
      },
      "execution_count": null,
      "outputs": []
    },
    {
      "cell_type": "code",
      "source": [
        "#JoinPgParcelsSmall with demographic data\n",
        "ParcelDemogs = gpd.sjoin(PgParcelsSmall,DemogsSmall,how=\"inner\", op = \"intersects\")"
      ],
      "metadata": {
        "id": "_KmsbAG53i5l",
        "colab": {
          "base_uri": "https://localhost:8080/"
        },
        "outputId": "bac7570f-e770-4cc5-f783-8a10abcd0170"
      },
      "execution_count": null,
      "outputs": [
        {
          "output_type": "stream",
          "name": "stderr",
          "text": [
            "/usr/local/lib/python3.10/dist-packages/IPython/core/interactiveshell.py:3473: FutureWarning: The `op` parameter is deprecated and will be removed in a future release. Please use the `predicate` parameter instead.\n",
            "  if (await self.run_code(code, result,  async_=asy)):\n"
          ]
        }
      ]
    },
    {
      "cell_type": "code",
      "source": [
        "# Group by the parcel account number so that there is one record per parcel\n",
        "ParcelDemogsCln = ParcelDemogs[['ACCT_PRIMA','DUS','GEOID','Total_Pop','Hisp_Pop','Hisp_Pct','geometry']].groupby('ACCT_PRIMA').first()"
      ],
      "metadata": {
        "id": "8cLt18IDYTck"
      },
      "execution_count": null,
      "outputs": []
    },
    {
      "cell_type": "code",
      "source": [
        "#a function to ensure that there are no nulls and that percents are in\n",
        "#decimal format\n",
        "def CleanPcts(input):\n",
        "  input['Hisp_Pct2'] = None\n",
        "  input.loc[(input['Hisp_Pct'] == 0) | (input['Hisp_Pct'].isnull()), 'Hisp_Pct2'] = 0\n",
        "  input.loc[input['Hisp_Pct'] > 0, 'Hisp_Pct2'] = input['Hisp_Pct'] / 100\n",
        "  return input\n"
      ],
      "metadata": {
        "id": "aHw7LfmJj-Hy"
      },
      "execution_count": null,
      "outputs": []
    },
    {
      "cell_type": "code",
      "source": [
        "#Running the CleanPcts function\n",
        "CleanPcts(ParcelDemogsCln)"
      ],
      "metadata": {
        "id": "NcUzWyAPl5pp"
      },
      "execution_count": null,
      "outputs": []
    },
    {
      "cell_type": "code",
      "source": [
        "#A function to calculate the distance between origin and destination\n",
        "#parcels and calculate the decay in number of households associated with those parcels\n",
        "#based on the distance and the selected exponent (1 = linear, 2 = quadratic, etc)\n",
        "def dist_decay(origins, dest, exp):\n",
        "  #a dictionary to contain the lists of distances from each polygon\n",
        "  dict_of_lists = {}\n",
        "  dict_of_lists_hisp = {}\n",
        "  for polygon in origins['geometry']:\n",
        "    #lists to contain the distances from each origin parcel, the number of dwelling units,\n",
        "    #and the percent Hispanic for each destination parcel\n",
        "    dist_list = []\n",
        "    DU_list = []\n",
        "    HispPct_list = []\n",
        "    #appends the values for the destination parcel to the lists for each destination\n",
        "    #parcel\n",
        "    for point, du, pct in zip(dest['geometry'], dest['DUS'], dest['Hisp_Pct2']):\n",
        "      dist_list.append(point.distance(polygon))\n",
        "      DU_list.append(du)\n",
        "      HispPct_list.append(pct)\n",
        "    #creates new lists for the weighted values\n",
        "    dist_list_w = []\n",
        "    HispPct_w = []\n",
        "    #locations less than 0.25 miles/402m away will have the value 1\n",
        "    #while others will decay\n",
        "    for dist, du, pct in zip(dist_list, DU_list, HispPct_list):\n",
        "      if dist <= 402:\n",
        "        dist_list_w.append(1*du)\n",
        "        HispPct_w.append(1*du*pct)\n",
        "      elif dist > 402:\n",
        "        dist_list_w.append(((402/dist)**exp)*du )\n",
        "        HispPct_w.append(((402/dist)**exp)*du*pct)\n",
        "    #summing the values for each origin polygon\n",
        "    dist_list_w_sum = sum(dist_list_w)\n",
        "    HispPct_w_sum = sum(HispPct_w)\n",
        "    #creating a new dictionary key, and adding the sum\n",
        "    #from above as the value\n",
        "    dict_of_lists[polygon] = dist_list_w_sum\n",
        "    dict_of_lists_hisp[polygon] = HispPct_w_sum\n",
        "    #creating a new column that maps the results of the\n",
        "    #dictionary above by the geometry column\n",
        "  origins['Customers'] = origins['geometry'].map(dict_of_lists)\n",
        "  origins['HispCustomers'] = origins['geometry'].map(dict_of_lists_hisp)\n",
        "  #returns the original table with the new column\n",
        "  return origins"
      ],
      "metadata": {
        "id": "E0X00294cQjq"
      },
      "execution_count": 1,
      "outputs": []
    },
    {
      "cell_type": "code",
      "source": [
        "#Running the dist_decay function\n",
        "dist_decay(OppSites,ParcelDemogsCln,2)"
      ],
      "metadata": {
        "id": "S6aqBwjeNIB_"
      },
      "execution_count": null,
      "outputs": []
    },
    {
      "cell_type": "code",
      "source": [
        "#creating a percent column\n",
        "OppSites['PctHisp'] = (OppSites['HispCustomers'] / OppSites['Customers'])"
      ],
      "metadata": {
        "id": "4YpVVH9qiBB0"
      },
      "execution_count": null,
      "outputs": []
    },
    {
      "cell_type": "code",
      "source": [
        "#checking the results\n",
        "OppSites.head()"
      ],
      "metadata": {
        "colab": {
          "base_uri": "https://localhost:8080/",
          "height": 401
        },
        "id": "pDjD6-x_ihJQ",
        "outputId": "e9cc2711-7e0a-48b4-f436-68b7c62131a2"
      },
      "execution_count": null,
      "outputs": [
        {
          "output_type": "execute_result",
          "data": {
            "text/plain": [
              "   DissolveID  DissolveCo   DissolveCi           DissolveAd  DissolveAr  \\\n",
              "1        11.0           1       LANHAM    7591 ANNAPOLIS RD    4.064821   \n",
              "2        31.0           2  HYATTSVILLE    7520 ANNAPOLIS RD   10.008090   \n",
              "6       188.0           1    RIVERDALE  5603 KENILWORTH AVE   10.916297   \n",
              "\n",
              "   DissImpVal  DissLandVa  DissImpV_1                        Dissolve_O  \\\n",
              "1           0           0    0.000000           CARMELA PROPERTIES LLLP   \n",
              "2           0           0    0.000000       COUNTY CENTER JOINT VENTURE   \n",
              "6     7614367     4791600    1.589107  RIVERDALE PLAZA SHP CTR LTD PTSP   \n",
              "\n",
              "   DissMinYea  ...  COUNT_Ch_2  Local_Pct  Chain_Pct   Shape_Leng  \\\n",
              "1        1972  ...           2   0.000000   1.000000  1852.864568   \n",
              "2        1961  ...          10   0.600000   0.400000  2714.770006   \n",
              "6        1968  ...          14   0.714286   0.285714  2844.545113   \n",
              "\n",
              "      Shape_Area  Incentiv_1  \\\n",
              "1  177063.602279        None   \n",
              "2  435952.390015        None   \n",
              "6  475513.904654        None   \n",
              "\n",
              "                                            geometry    Customers  \\\n",
              "1  POLYGON ((336805.276 4313016.260, 336796.608 4...  3381.254147   \n",
              "2  POLYGON ((336530.388 4312971.656, 336515.614 4...  3242.822139   \n",
              "6  POLYGON ((333714.344 4313969.197, 333721.553 4...  4503.489949   \n",
              "\n",
              "   HispCustomers   PctHisp  \n",
              "1    1061.587270  0.313963  \n",
              "2    1208.643190  0.372713  \n",
              "6    2666.262853  0.592044  \n",
              "\n",
              "[3 rows x 88 columns]"
            ],
            "text/html": [
              "\n",
              "  <div id=\"df-f0a60cc9-3ded-4f78-847d-d1075a78a71c\" class=\"colab-df-container\">\n",
              "    <div>\n",
              "<style scoped>\n",
              "    .dataframe tbody tr th:only-of-type {\n",
              "        vertical-align: middle;\n",
              "    }\n",
              "\n",
              "    .dataframe tbody tr th {\n",
              "        vertical-align: top;\n",
              "    }\n",
              "\n",
              "    .dataframe thead th {\n",
              "        text-align: right;\n",
              "    }\n",
              "</style>\n",
              "<table border=\"1\" class=\"dataframe\">\n",
              "  <thead>\n",
              "    <tr style=\"text-align: right;\">\n",
              "      <th></th>\n",
              "      <th>DissolveID</th>\n",
              "      <th>DissolveCo</th>\n",
              "      <th>DissolveCi</th>\n",
              "      <th>DissolveAd</th>\n",
              "      <th>DissolveAr</th>\n",
              "      <th>DissImpVal</th>\n",
              "      <th>DissLandVa</th>\n",
              "      <th>DissImpV_1</th>\n",
              "      <th>Dissolve_O</th>\n",
              "      <th>DissMinYea</th>\n",
              "      <th>...</th>\n",
              "      <th>COUNT_Ch_2</th>\n",
              "      <th>Local_Pct</th>\n",
              "      <th>Chain_Pct</th>\n",
              "      <th>Shape_Leng</th>\n",
              "      <th>Shape_Area</th>\n",
              "      <th>Incentiv_1</th>\n",
              "      <th>geometry</th>\n",
              "      <th>Customers</th>\n",
              "      <th>HispCustomers</th>\n",
              "      <th>PctHisp</th>\n",
              "    </tr>\n",
              "  </thead>\n",
              "  <tbody>\n",
              "    <tr>\n",
              "      <th>1</th>\n",
              "      <td>11.0</td>\n",
              "      <td>1</td>\n",
              "      <td>LANHAM</td>\n",
              "      <td>7591 ANNAPOLIS RD</td>\n",
              "      <td>4.064821</td>\n",
              "      <td>0</td>\n",
              "      <td>0</td>\n",
              "      <td>0.000000</td>\n",
              "      <td>CARMELA PROPERTIES LLLP</td>\n",
              "      <td>1972</td>\n",
              "      <td>...</td>\n",
              "      <td>2</td>\n",
              "      <td>0.000000</td>\n",
              "      <td>1.000000</td>\n",
              "      <td>1852.864568</td>\n",
              "      <td>177063.602279</td>\n",
              "      <td>None</td>\n",
              "      <td>POLYGON ((336805.276 4313016.260, 336796.608 4...</td>\n",
              "      <td>3381.254147</td>\n",
              "      <td>1061.587270</td>\n",
              "      <td>0.313963</td>\n",
              "    </tr>\n",
              "    <tr>\n",
              "      <th>2</th>\n",
              "      <td>31.0</td>\n",
              "      <td>2</td>\n",
              "      <td>HYATTSVILLE</td>\n",
              "      <td>7520 ANNAPOLIS RD</td>\n",
              "      <td>10.008090</td>\n",
              "      <td>0</td>\n",
              "      <td>0</td>\n",
              "      <td>0.000000</td>\n",
              "      <td>COUNTY CENTER JOINT VENTURE</td>\n",
              "      <td>1961</td>\n",
              "      <td>...</td>\n",
              "      <td>10</td>\n",
              "      <td>0.600000</td>\n",
              "      <td>0.400000</td>\n",
              "      <td>2714.770006</td>\n",
              "      <td>435952.390015</td>\n",
              "      <td>None</td>\n",
              "      <td>POLYGON ((336530.388 4312971.656, 336515.614 4...</td>\n",
              "      <td>3242.822139</td>\n",
              "      <td>1208.643190</td>\n",
              "      <td>0.372713</td>\n",
              "    </tr>\n",
              "    <tr>\n",
              "      <th>6</th>\n",
              "      <td>188.0</td>\n",
              "      <td>1</td>\n",
              "      <td>RIVERDALE</td>\n",
              "      <td>5603 KENILWORTH AVE</td>\n",
              "      <td>10.916297</td>\n",
              "      <td>7614367</td>\n",
              "      <td>4791600</td>\n",
              "      <td>1.589107</td>\n",
              "      <td>RIVERDALE PLAZA SHP CTR LTD PTSP</td>\n",
              "      <td>1968</td>\n",
              "      <td>...</td>\n",
              "      <td>14</td>\n",
              "      <td>0.714286</td>\n",
              "      <td>0.285714</td>\n",
              "      <td>2844.545113</td>\n",
              "      <td>475513.904654</td>\n",
              "      <td>None</td>\n",
              "      <td>POLYGON ((333714.344 4313969.197, 333721.553 4...</td>\n",
              "      <td>4503.489949</td>\n",
              "      <td>2666.262853</td>\n",
              "      <td>0.592044</td>\n",
              "    </tr>\n",
              "  </tbody>\n",
              "</table>\n",
              "<p>3 rows × 88 columns</p>\n",
              "</div>\n",
              "    <div class=\"colab-df-buttons\">\n",
              "\n",
              "  <div class=\"colab-df-container\">\n",
              "    <button class=\"colab-df-convert\" onclick=\"convertToInteractive('df-f0a60cc9-3ded-4f78-847d-d1075a78a71c')\"\n",
              "            title=\"Convert this dataframe to an interactive table.\"\n",
              "            style=\"display:none;\">\n",
              "\n",
              "  <svg xmlns=\"http://www.w3.org/2000/svg\" height=\"24px\" viewBox=\"0 -960 960 960\">\n",
              "    <path d=\"M120-120v-720h720v720H120Zm60-500h600v-160H180v160Zm220 220h160v-160H400v160Zm0 220h160v-160H400v160ZM180-400h160v-160H180v160Zm440 0h160v-160H620v160ZM180-180h160v-160H180v160Zm440 0h160v-160H620v160Z\"/>\n",
              "  </svg>\n",
              "    </button>\n",
              "\n",
              "  <style>\n",
              "    .colab-df-container {\n",
              "      display:flex;\n",
              "      gap: 12px;\n",
              "    }\n",
              "\n",
              "    .colab-df-convert {\n",
              "      background-color: #E8F0FE;\n",
              "      border: none;\n",
              "      border-radius: 50%;\n",
              "      cursor: pointer;\n",
              "      display: none;\n",
              "      fill: #1967D2;\n",
              "      height: 32px;\n",
              "      padding: 0 0 0 0;\n",
              "      width: 32px;\n",
              "    }\n",
              "\n",
              "    .colab-df-convert:hover {\n",
              "      background-color: #E2EBFA;\n",
              "      box-shadow: 0px 1px 2px rgba(60, 64, 67, 0.3), 0px 1px 3px 1px rgba(60, 64, 67, 0.15);\n",
              "      fill: #174EA6;\n",
              "    }\n",
              "\n",
              "    .colab-df-buttons div {\n",
              "      margin-bottom: 4px;\n",
              "    }\n",
              "\n",
              "    [theme=dark] .colab-df-convert {\n",
              "      background-color: #3B4455;\n",
              "      fill: #D2E3FC;\n",
              "    }\n",
              "\n",
              "    [theme=dark] .colab-df-convert:hover {\n",
              "      background-color: #434B5C;\n",
              "      box-shadow: 0px 1px 3px 1px rgba(0, 0, 0, 0.15);\n",
              "      filter: drop-shadow(0px 1px 2px rgba(0, 0, 0, 0.3));\n",
              "      fill: #FFFFFF;\n",
              "    }\n",
              "  </style>\n",
              "\n",
              "    <script>\n",
              "      const buttonEl =\n",
              "        document.querySelector('#df-f0a60cc9-3ded-4f78-847d-d1075a78a71c button.colab-df-convert');\n",
              "      buttonEl.style.display =\n",
              "        google.colab.kernel.accessAllowed ? 'block' : 'none';\n",
              "\n",
              "      async function convertToInteractive(key) {\n",
              "        const element = document.querySelector('#df-f0a60cc9-3ded-4f78-847d-d1075a78a71c');\n",
              "        const dataTable =\n",
              "          await google.colab.kernel.invokeFunction('convertToInteractive',\n",
              "                                                    [key], {});\n",
              "        if (!dataTable) return;\n",
              "\n",
              "        const docLinkHtml = 'Like what you see? Visit the ' +\n",
              "          '<a target=\"_blank\" href=https://colab.research.google.com/notebooks/data_table.ipynb>data table notebook</a>'\n",
              "          + ' to learn more about interactive tables.';\n",
              "        element.innerHTML = '';\n",
              "        dataTable['output_type'] = 'display_data';\n",
              "        await google.colab.output.renderOutput(dataTable, element);\n",
              "        const docLink = document.createElement('div');\n",
              "        docLink.innerHTML = docLinkHtml;\n",
              "        element.appendChild(docLink);\n",
              "      }\n",
              "    </script>\n",
              "  </div>\n",
              "\n",
              "\n",
              "<div id=\"df-a92b39f1-202b-493b-8d45-e867fad90adc\">\n",
              "  <button class=\"colab-df-quickchart\" onclick=\"quickchart('df-a92b39f1-202b-493b-8d45-e867fad90adc')\"\n",
              "            title=\"Suggest charts\"\n",
              "            style=\"display:none;\">\n",
              "\n",
              "<svg xmlns=\"http://www.w3.org/2000/svg\" height=\"24px\"viewBox=\"0 0 24 24\"\n",
              "     width=\"24px\">\n",
              "    <g>\n",
              "        <path d=\"M19 3H5c-1.1 0-2 .9-2 2v14c0 1.1.9 2 2 2h14c1.1 0 2-.9 2-2V5c0-1.1-.9-2-2-2zM9 17H7v-7h2v7zm4 0h-2V7h2v10zm4 0h-2v-4h2v4z\"/>\n",
              "    </g>\n",
              "</svg>\n",
              "  </button>\n",
              "\n",
              "<style>\n",
              "  .colab-df-quickchart {\n",
              "      --bg-color: #E8F0FE;\n",
              "      --fill-color: #1967D2;\n",
              "      --hover-bg-color: #E2EBFA;\n",
              "      --hover-fill-color: #174EA6;\n",
              "      --disabled-fill-color: #AAA;\n",
              "      --disabled-bg-color: #DDD;\n",
              "  }\n",
              "\n",
              "  [theme=dark] .colab-df-quickchart {\n",
              "      --bg-color: #3B4455;\n",
              "      --fill-color: #D2E3FC;\n",
              "      --hover-bg-color: #434B5C;\n",
              "      --hover-fill-color: #FFFFFF;\n",
              "      --disabled-bg-color: #3B4455;\n",
              "      --disabled-fill-color: #666;\n",
              "  }\n",
              "\n",
              "  .colab-df-quickchart {\n",
              "    background-color: var(--bg-color);\n",
              "    border: none;\n",
              "    border-radius: 50%;\n",
              "    cursor: pointer;\n",
              "    display: none;\n",
              "    fill: var(--fill-color);\n",
              "    height: 32px;\n",
              "    padding: 0;\n",
              "    width: 32px;\n",
              "  }\n",
              "\n",
              "  .colab-df-quickchart:hover {\n",
              "    background-color: var(--hover-bg-color);\n",
              "    box-shadow: 0 1px 2px rgba(60, 64, 67, 0.3), 0 1px 3px 1px rgba(60, 64, 67, 0.15);\n",
              "    fill: var(--button-hover-fill-color);\n",
              "  }\n",
              "\n",
              "  .colab-df-quickchart-complete:disabled,\n",
              "  .colab-df-quickchart-complete:disabled:hover {\n",
              "    background-color: var(--disabled-bg-color);\n",
              "    fill: var(--disabled-fill-color);\n",
              "    box-shadow: none;\n",
              "  }\n",
              "\n",
              "  .colab-df-spinner {\n",
              "    border: 2px solid var(--fill-color);\n",
              "    border-color: transparent;\n",
              "    border-bottom-color: var(--fill-color);\n",
              "    animation:\n",
              "      spin 1s steps(1) infinite;\n",
              "  }\n",
              "\n",
              "  @keyframes spin {\n",
              "    0% {\n",
              "      border-color: transparent;\n",
              "      border-bottom-color: var(--fill-color);\n",
              "      border-left-color: var(--fill-color);\n",
              "    }\n",
              "    20% {\n",
              "      border-color: transparent;\n",
              "      border-left-color: var(--fill-color);\n",
              "      border-top-color: var(--fill-color);\n",
              "    }\n",
              "    30% {\n",
              "      border-color: transparent;\n",
              "      border-left-color: var(--fill-color);\n",
              "      border-top-color: var(--fill-color);\n",
              "      border-right-color: var(--fill-color);\n",
              "    }\n",
              "    40% {\n",
              "      border-color: transparent;\n",
              "      border-right-color: var(--fill-color);\n",
              "      border-top-color: var(--fill-color);\n",
              "    }\n",
              "    60% {\n",
              "      border-color: transparent;\n",
              "      border-right-color: var(--fill-color);\n",
              "    }\n",
              "    80% {\n",
              "      border-color: transparent;\n",
              "      border-right-color: var(--fill-color);\n",
              "      border-bottom-color: var(--fill-color);\n",
              "    }\n",
              "    90% {\n",
              "      border-color: transparent;\n",
              "      border-bottom-color: var(--fill-color);\n",
              "    }\n",
              "  }\n",
              "</style>\n",
              "\n",
              "  <script>\n",
              "    async function quickchart(key) {\n",
              "      const quickchartButtonEl =\n",
              "        document.querySelector('#' + key + ' button');\n",
              "      quickchartButtonEl.disabled = true;  // To prevent multiple clicks.\n",
              "      quickchartButtonEl.classList.add('colab-df-spinner');\n",
              "      try {\n",
              "        const charts = await google.colab.kernel.invokeFunction(\n",
              "            'suggestCharts', [key], {});\n",
              "      } catch (error) {\n",
              "        console.error('Error during call to suggestCharts:', error);\n",
              "      }\n",
              "      quickchartButtonEl.classList.remove('colab-df-spinner');\n",
              "      quickchartButtonEl.classList.add('colab-df-quickchart-complete');\n",
              "    }\n",
              "    (() => {\n",
              "      let quickchartButtonEl =\n",
              "        document.querySelector('#df-a92b39f1-202b-493b-8d45-e867fad90adc button');\n",
              "      quickchartButtonEl.style.display =\n",
              "        google.colab.kernel.accessAllowed ? 'block' : 'none';\n",
              "    })();\n",
              "  </script>\n",
              "</div>\n",
              "    </div>\n",
              "  </div>\n"
            ],
            "application/vnd.google.colaboratory.intrinsic+json": {
              "type": "dataframe",
              "variable_name": "OppSites"
            }
          },
          "metadata": {},
          "execution_count": 53
        }
      ]
    },
    {
      "cell_type": "code",
      "source": [
        "# Exporting the results to csv\n",
        "# OppSites.to_csv('/content/drive/MyDrive/Colab Notebooks/FinalProject/Results/May10Exponential2.csv')"
      ],
      "metadata": {
        "id": "NwTsTC4EZTzO"
      },
      "execution_count": null,
      "outputs": []
    }
  ]
}