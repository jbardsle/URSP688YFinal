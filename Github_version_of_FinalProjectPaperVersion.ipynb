{
  "nbformat": 4,
  "nbformat_minor": 0,
  "metadata": {
    "colab": {
      "provenance": [],
      "mount_file_id": "1IzgbyH6hqrGFAO2cQ0H0LHKvKXUNgCqi",
      "authorship_tag": "ABX9TyMe6HCEDtum3K/GLWW3bWTN",
      "include_colab_link": true
    },
    "kernelspec": {
      "name": "python3",
      "display_name": "Python 3"
    },
    "language_info": {
      "name": "python"
    }
  },
  "cells": [
    {
      "cell_type": "markdown",
      "metadata": {
        "id": "view-in-github",
        "colab_type": "text"
      },
      "source": [
        "<a href=\"https://colab.research.google.com/github/jbardsle/URSP688YFinal/blob/main/Github_version_of_FinalProjectPaperVersion.ipynb\" target=\"_parent\"><img src=\"https://colab.research.google.com/assets/colab-badge.svg\" alt=\"Open In Colab\"/></a>"
      ]
    },
    {
      "cell_type": "code",
      "execution_count": null,
      "metadata": {
        "id": "Jj66Yu0r7dGh"
      },
      "outputs": [],
      "source": [
        "import pandas as pd\n",
        "import geopandas as gpd\n",
        "import os\n",
        "import numpy as np\n",
        "import matplotlib.pyplot as plt\n",
        "import shapely\n",
        "import os\n"
      ]
    },
    {
      "cell_type": "code",
      "source": [
        "import sys\n",
        "sys.path.append('URSP688Final/src')"
      ],
      "metadata": {
        "id": "RURq_sppANnP"
      },
      "execution_count": null,
      "outputs": []
    },
    {
      "cell_type": "code",
      "source": [
        "from modules.clean_pcts import clean_pcts\n",
        "from modules.dist_decay import dist_decay"
      ],
      "metadata": {
        "id": "qReEm3oOAR4k"
      },
      "execution_count": null,
      "outputs": []
    },
    {
      "cell_type": "code",
      "source": [
        "OppSites = gpd.read_file('data/OpportunitySites2/OpportunitySites2.shp')"
      ],
      "metadata": {
        "id": "8wHVxP6S7z9r"
      },
      "execution_count": null,
      "outputs": []
    },
    {
      "cell_type": "code",
      "source": [
        "# This begins the process to clean the original large data files. For loading speed,\n",
        "# the smaller versions are loaded below, and this section is commented out.\n",
        "# OppSites is small enough that it is loaded below.\n",
        "# PgParcels = gpd.read_file('data/Property_Info_Py (1)/Property_Info_Py.shp')"
      ],
      "metadata": {
        "id": "faEHZKB--3bi"
      },
      "execution_count": null,
      "outputs": []
    },
    {
      "cell_type": "code",
      "source": [
        "# Demogs = gpd.read_file('data/PG_Blocks/PG_Blocks.shp')"
      ],
      "metadata": {
        "id": "0BhmWT72qf0R"
      },
      "execution_count": null,
      "outputs": []
    },
    {
      "cell_type": "code",
      "source": [
        "#Select the opportunity sites that have a 3 mile radius completely withing Prince George's County\n",
        "#and a small sliver of DC\n",
        "OppSites = OppSites[OppSites['DissolveID'].isin([11,31,188,])]"
      ],
      "metadata": {
        "id": "orurtKZESobl"
      },
      "execution_count": null,
      "outputs": []
    },
    {
      "cell_type": "code",
      "source": [
        "#Convert all geodataframes to UTM-18 for distance measurement\n",
        "# PgParcels = PgParcels.to_crs(epsg = 32618)\n",
        "OppSites = OppSites.to_crs(epsg = 32618)\n",
        "# Demogs = Demogs.to_crs(epsg = 32618)"
      ],
      "metadata": {
        "id": "5yRI_e0peIMv"
      },
      "execution_count": null,
      "outputs": []
    },
    {
      "cell_type": "code",
      "source": [
        "#Create a buffer around each site of approximately three miles (4828 meters) to represent the market area\n",
        "OppSitesBuffer = OppSites['geometry'].buffer(4828)"
      ],
      "metadata": {
        "id": "8Yjp5umIeUST"
      },
      "execution_count": null,
      "outputs": []
    },
    {
      "cell_type": "code",
      "source": [
        "#Copy the Opportunity Sites layer so that it can be replaced with the buffer geometry\n",
        "OppSitesWithBuffer = OppSites.copy()"
      ],
      "metadata": {
        "id": "GoQHZRPS5wW6"
      },
      "execution_count": null,
      "outputs": []
    },
    {
      "cell_type": "code",
      "source": [
        "#Replace original geometry with buffer geometry\n",
        "OppSitesWithBuffer['geometry'] = OppSitesBuffer"
      ],
      "metadata": {
        "id": "kBjsVPhbhadQ"
      },
      "execution_count": null,
      "outputs": []
    },
    {
      "cell_type": "code",
      "source": [
        "#plot the buffers with the opportunity sites\n",
        "ax = OppSitesBuffer.plot()\n",
        "OppSites.plot(ax=ax, color = 'red')"
      ],
      "metadata": {
        "id": "d8EbJjySLSFK"
      },
      "execution_count": null,
      "outputs": []
    },
    {
      "cell_type": "code",
      "source": [
        "# #Create a single shape to represent the maximum area of interest (3 miles from the three sites)\n",
        "# MaxArea = OppSitesBuffer.unary_union\n",
        "# #Convert this polygon object to a geodataframe\n",
        "# MaxArea_series = gpd.GeoSeries(MaxArea)\n",
        "# MaxAreaGDF = gpd.GeoDataFrame(geometry = MaxArea_series, crs = 32618)"
      ],
      "metadata": {
        "id": "UGGwt5_YQ6RU"
      },
      "execution_count": null,
      "outputs": []
    },
    {
      "cell_type": "code",
      "source": [
        "# PgParcelsSmall = gpd.sjoin(PgParcels, MaxAreaGDF,how=\"inner\", op='intersects')"
      ],
      "metadata": {
        "id": "TchA6lsEVqKM"
      },
      "execution_count": null,
      "outputs": []
    },
    {
      "cell_type": "code",
      "source": [
        "# DemogsSmall = gpd.sjoin(Demogs, MaxAreaGDF,how=\"inner\", op='intersects')"
      ],
      "metadata": {
        "id": "6QG7KfnRuQNl"
      },
      "execution_count": null,
      "outputs": []
    },
    {
      "cell_type": "code",
      "source": [
        "#Load PgParcelsSmall from file (rather than performing the above process)\n",
        "PgParcelsSmall = gpd.read_file('data/PgParcelsSmall3Miles/PgParcelsSmall3Mile.shp')"
      ],
      "metadata": {
        "id": "X8ev5MEP2C5H"
      },
      "execution_count": null,
      "outputs": []
    },
    {
      "cell_type": "code",
      "source": [
        "#Load DemogsSmall from file (rather than performing the above process)\n",
        "DemogsSmall = gpd.read_file('data/DemogsSmall3Miles/DemogsSmall3Mile.shp')"
      ],
      "metadata": {
        "id": "e5tDJlvq2TDy"
      },
      "execution_count": null,
      "outputs": []
    },
    {
      "cell_type": "code",
      "source": [
        "#Remove all columns except the one containing the Geoid, total pop, hispanic pop, and hispanic percent\n",
        "DemogsSmall = DemogsSmall[['GEOID','P0010001','P0020002','PCT_P00200','geometry']]"
      ],
      "metadata": {
        "id": "WOFZ1uQT76c4"
      },
      "execution_count": null,
      "outputs": []
    },
    {
      "cell_type": "code",
      "source": [
        "#Rename columns for ease of use\n",
        "DemogsSmall.rename(columns={'P0010001': 'Total_Pop', 'P0020002': 'Hisp_Pop', 'PCT_P00200': 'Hisp_Pct'}, inplace=True)"
      ],
      "metadata": {
        "id": "5a-RAo----K9"
      },
      "execution_count": null,
      "outputs": []
    },
    {
      "cell_type": "code",
      "source": [
        "#Get rid of index_right column in PgParcelsSmall which causes an error in a future join\n",
        "PgParcelsSmall.drop('index_righ', axis=1, inplace=True)"
      ],
      "metadata": {
        "id": "i4mAxPkP4DOV"
      },
      "execution_count": null,
      "outputs": []
    },
    {
      "cell_type": "code",
      "source": [
        "#JoinPgParcelsSmall with demographic data\n",
        "ParcelDemogs = gpd.sjoin(PgParcelsSmall,DemogsSmall,how=\"inner\", op = \"intersects\")"
      ],
      "metadata": {
        "id": "_KmsbAG53i5l"
      },
      "execution_count": null,
      "outputs": []
    },
    {
      "cell_type": "code",
      "source": [
        "# Group by the parcel account number so that there is one record per parcel\n",
        "ParcelDemogsCln = ParcelDemogs[['ACCT_PRIMA','DUS','GEOID','Total_Pop','Hisp_Pop','Hisp_Pct','geometry']].groupby('ACCT_PRIMA').first()"
      ],
      "metadata": {
        "id": "8cLt18IDYTck"
      },
      "execution_count": null,
      "outputs": []
    },
    {
      "cell_type": "code",
      "source": [
        "#Running the CleanPcts function\n",
        "clean_pcts(ParcelDemogsCln)"
      ],
      "metadata": {
        "id": "NcUzWyAPl5pp"
      },
      "execution_count": null,
      "outputs": []
    },
    {
      "cell_type": "code",
      "source": [
        "#Running the dist_decay function with quadratic decline\n",
        "dist_decay(OppSites,ParcelDemogsCln,2)"
      ],
      "metadata": {
        "id": "S6aqBwjeNIB_"
      },
      "execution_count": null,
      "outputs": []
    },
    {
      "cell_type": "code",
      "source": [
        "#creating a percent column\n",
        "OppSites['PctHisp'] = (OppSites['HispCustomers'] / OppSites['Customers'])"
      ],
      "metadata": {
        "id": "4YpVVH9qiBB0"
      },
      "execution_count": null,
      "outputs": []
    },
    {
      "cell_type": "code",
      "source": [
        "#checking the results\n",
        "OppSites.head()"
      ],
      "metadata": {
        "id": "pDjD6-x_ihJQ"
      },
      "execution_count": null,
      "outputs": []
    },
    {
      "cell_type": "code",
      "source": [
        "# Exporting the results to csv\n",
        "# OppSites.to_csv('/content/drive/MyDrive/Colab Notebooks/FinalProject/Results/May10Exponential2.csv')"
      ],
      "metadata": {
        "id": "NwTsTC4EZTzO"
      },
      "execution_count": null,
      "outputs": []
    }
  ]
}